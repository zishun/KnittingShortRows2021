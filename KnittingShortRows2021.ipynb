{
  "nbformat": 4,
  "nbformat_minor": 0,
  "metadata": {
    "colab": {
      "name": "KnittingShortRows2021.ipynb",
      "provenance": [],
      "collapsed_sections": []
    },
    "kernelspec": {
      "name": "python3",
      "display_name": "Python 3"
    },
    "language_info": {
      "name": "python"
    }
  },
  "cells": [
    {
      "cell_type": "markdown",
      "source": [
        "# Knitting with Short-Rows Shaping\n",
        "\n",
        "[![GitHub](https://img.shields.io/badge/github-%23121011.svg?style=for-the-badge&logo=github&logoColor=white)](https://github.com/zishun/KnittingShortRows2021)"
      ],
      "metadata": {
        "id": "XO86L4U3uYKm"
      }
    },
    {
      "cell_type": "markdown",
      "source": [
        "# Clone and Install"
      ],
      "metadata": {
        "id": "07GdhaDKjer5"
      }
    },
    {
      "cell_type": "code",
      "source": [
        "# !pip install openmesh  # build from source will be slow. use the wheel.\n",
        "!pip install gdown\n",
        "!gdown https://drive.google.com/uc?id=13d73YCSTPeBEX2W5JZ5uWyS5qGxO2vEC\n",
        "!pip install ./openmesh-1.2.1-cp37-cp37m-linux_x86_64.whl"
      ],
      "metadata": {
        "id": "0eRmCLxOaOSW"
      },
      "execution_count": null,
      "outputs": []
    },
    {
      "cell_type": "code",
      "source": [
        "!pip install pythreejs\n",
        "!pip install git+https://github.com/skoch9/meshplot@v0.3.2"
      ],
      "metadata": {
        "id": "IcO3IOOEaHZr"
      },
      "execution_count": null,
      "outputs": []
    },
    {
      "cell_type": "code",
      "execution_count": null,
      "metadata": {
        "id": "LuUc38GsZ_8s"
      },
      "outputs": [],
      "source": [
        "!git clone https://github.com/zishun/KnittingShortRows2021\n",
        "%cd KnittingShortRows2021\n",
        "!pip install -r ./requirements.txt"
      ]
    },
    {
      "cell_type": "markdown",
      "source": [
        "# Run Examples\n",
        "\n",
        "Work in the ```examples/``` folder."
      ],
      "metadata": {
        "id": "tQkh3BqojtQx"
      }
    },
    {
      "cell_type": "code",
      "source": [
        "%cd examples/\n",
        "import meshutility as mu\n",
        "import numpy as np\n",
        "import openmesh as om\n",
        "import meshplot as mp\n",
        "from IPython.core.display import display, HTML\n",
        "\n",
        "# # colab may suggest to add the following two lines. DO NOT DO IT!\n",
        "# from google.colab import output\n",
        "# output.enable_custom_widget_manager()\n",
        "\n",
        "def display_viewer(viewer):\n",
        "    display(HTML(viewer.to_html()))\n",
        "\n",
        "def mp_plot(*args, **kwargs):\n",
        "    display_viewer(mp.plot(return_plot=True, *args, **kwargs))"
      ],
      "metadata": {
        "id": "XtsDyxSVdiyi"
      },
      "execution_count": null,
      "outputs": []
    },
    {
      "cell_type": "markdown",
      "source": [
        "## Hemipshere"
      ],
      "metadata": {
        "id": "jPrhYrKEj1nA"
      }
    },
    {
      "cell_type": "code",
      "source": [
        "!python ./hemisphere.py"
      ],
      "metadata": {
        "id": "AjkRQqsDeD3U"
      },
      "execution_count": null,
      "outputs": []
    },
    {
      "cell_type": "code",
      "source": [
        "# meshplot does not support face-colored om.PolyMesh very well. Let's use om.TriMesh.\n",
        "mesh = om.read_trimesh('../output/hemisphere/onestroke.obj', face_color=True)\n",
        "faces = mesh.fv_indices()\n",
        "colors = mesh.face_colors()[:,:3]\n",
        "mp_plot(mesh.points(), faces, c=colors)"
      ],
      "metadata": {
        "id": "ymKhRBcceGBq"
      },
      "execution_count": null,
      "outputs": []
    },
    {
      "cell_type": "markdown",
      "source": [
        "## Mannequin"
      ],
      "metadata": {
        "id": "TX-n8YRKn6n7"
      }
    },
    {
      "cell_type": "code",
      "source": [
        "!python ./mannequin.py 0"
      ],
      "metadata": {
        "id": "cNsRqq10nyoU"
      },
      "execution_count": null,
      "outputs": []
    },
    {
      "cell_type": "code",
      "source": [
        "## Field and isocurves\n",
        "mesh = om.read_trimesh('../output/mannequin_front/field_reorient.off')\n",
        "field = np.load('../output/mannequin_front/field_reorient.npy')\n",
        "c_pts, c_edges = mu.read_obj_lines('../output/mannequin_front/curves_col.obj')\n",
        "p = mp.plot(mesh.points(), mesh.fv_indices(), c=field, shading={'colormap':'hot'}, return_plot=True)\n",
        "p.add_lines(c_pts[c_edges[:,0]], c_pts[c_edges[:,1]], shading={\"line_color\": \"gray\"});\n",
        "display_viewer(p)"
      ],
      "metadata": {
        "id": "OwapG-2-pg9k"
      },
      "execution_count": null,
      "outputs": []
    },
    {
      "cell_type": "code",
      "source": [
        "mesh = om.read_trimesh('../output/mannequin_front/onestroke.obj', face_color=True)\n",
        "faces = mesh.fv_indices()\n",
        "colors = mesh.face_colors()[:,:3]\n",
        "mp_plot(mesh.points(), faces, c=colors)"
      ],
      "metadata": {
        "id": "w1fWk65NoQyM"
      },
      "execution_count": null,
      "outputs": []
    },
    {
      "cell_type": "code",
      "source": [
        "!python ./mannequin.py 1\n",
        "mesh = om.read_trimesh('../output/mannequin_back/onestroke.obj', face_color=True)\n",
        "faces = mesh.fv_indices()\n",
        "colors = mesh.face_colors()[:,:3]\n",
        "mp_plot(mesh.points(), faces, c=colors)"
      ],
      "metadata": {
        "id": "GRPQr4a4oYIb"
      },
      "execution_count": null,
      "outputs": []
    },
    {
      "cell_type": "markdown",
      "source": [
        "## Skullcap"
      ],
      "metadata": {
        "id": "WYncMeRon63b"
      }
    },
    {
      "cell_type": "code",
      "source": [
        "!python ./skullcap.py"
      ],
      "metadata": {
        "id": "xOCUSxBPomEk"
      },
      "execution_count": null,
      "outputs": []
    },
    {
      "cell_type": "code",
      "source": [
        "## Field\n",
        "mesh = om.read_trimesh('../output/skullcap/field_reorient.off')\n",
        "field = np.load('../output/skullcap/field_reorient.npy')\n",
        "mp_plot(mesh.points(), mesh.fv_indices(), c=field, shading={'colormap':'hot'})"
      ],
      "metadata": {
        "id": "rMy3xaIcr-2u"
      },
      "execution_count": null,
      "outputs": []
    },
    {
      "cell_type": "code",
      "source": [
        "mesh = om.read_trimesh('../output/skullcap/onestroke.obj', face_color=True)\n",
        "faces = mesh.fv_indices()\n",
        "colors = mesh.face_colors()[:,:3]\n",
        "mp_plot(mesh.points(), faces, c=colors)"
      ],
      "metadata": {
        "id": "hki_l45npBJE"
      },
      "execution_count": null,
      "outputs": []
    },
    {
      "cell_type": "markdown",
      "source": [
        "## Triple-peak"
      ],
      "metadata": {
        "id": "QvaZ19pqn6zS"
      }
    },
    {
      "cell_type": "code",
      "source": [
        "!python ./triple_peak.py\n",
        "mesh = om.read_trimesh('../output/triple_peak/onestroke.obj', face_color=True)\n",
        "faces = mesh.fv_indices()\n",
        "colors = mesh.face_colors()[:,:3]\n",
        "mp_plot(mesh.points(), faces, c=colors)"
      ],
      "metadata": {
        "id": "1EBYfa7An_qD"
      },
      "execution_count": null,
      "outputs": []
    },
    {
      "cell_type": "code",
      "source": [
        ""
      ],
      "metadata": {
        "id": "1KLXb9-ApLek"
      },
      "execution_count": null,
      "outputs": []
    }
  ]
}